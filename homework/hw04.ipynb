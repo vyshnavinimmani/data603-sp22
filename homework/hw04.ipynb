{
  "nbformat": 4,
  "nbformat_minor": 0,
  "metadata": {
    "colab": {
      "name": "hw04.ipynb",
      "provenance": []
    },
    "kernelspec": {
      "name": "python3",
      "display_name": "Python 3"
    },
    "language_info": {
      "name": "python"
    }
  },
  "cells": [
    {
      "cell_type": "code",
      "execution_count": 45,
      "metadata": {
        "colab": {
          "base_uri": "https://localhost:8080/"
        },
        "id": "7sQf5efz_5bm",
        "outputId": "ddf9605b-ca35-408d-c7c4-00ee6aee6d6f"
      },
      "outputs": [
        {
          "output_type": "stream",
          "name": "stdout",
          "text": [
            "Requirement already satisfied: pyspark in /usr/local/lib/python3.7/dist-packages (3.2.1)\n",
            "Requirement already satisfied: py4j==0.10.9.3 in /usr/local/lib/python3.7/dist-packages (from pyspark) (0.10.9.3)\n"
          ]
        }
      ],
      "source": [
        "pip install pyspark"
      ]
    },
    {
      "cell_type": "code",
      "source": [
        "import pyspark"
      ],
      "metadata": {
        "id": "-TiscT8fA2FE"
      },
      "execution_count": 46,
      "outputs": []
    },
    {
      "cell_type": "code",
      "source": [
        "from pyspark.sql.types import *\n",
        "from pyspark.sql.functions import *"
      ],
      "metadata": {
        "id": "Wm6a0ZWUAskx"
      },
      "execution_count": 47,
      "outputs": []
    },
    {
      "cell_type": "code",
      "source": [
        "crimedata_schema = StructType([StructField('X', DoubleType(), True),\n",
        "                     StructField('Y', DoubleType(), True),\n",
        "                     StructField('RowID', IntegerType(), True),\n",
        "                     StructField('CrimeDateTime', StringType(), True),\n",
        "                     StructField('CrimeCode', StringType(), True),\n",
        "                     StructField('Location', StringType(), True),\n",
        "                     StructField('Description', StringType(), True),\n",
        "                     StructField('InsideOutside', StringType(), True),\n",
        "                     StructField('Weapon', StringType(), True),\n",
        "                     StructField('Post', StringType(), True),\n",
        "                     StructField('District', StringType(), True),\n",
        "                     StructField('Neighborhood', StringType(), True),\n",
        "                     StructField('Latitude', FloatType(), True),\n",
        "                     StructField('Longitude', FloatType(), True),\n",
        "                     StructField('GeoLocation', StringType(), True),\n",
        "                     StructField('Premise', StringType(), True),\n",
        "                     StructField('VRIName', StringType(), True),\n",
        "                     StructField('TotalIncidents', IntegerType(), True)])"
      ],
      "metadata": {
        "id": "sIctffEGADFb"
      },
      "execution_count": 48,
      "outputs": []
    },
    {
      "cell_type": "code",
      "source": [
        "Part1_crime_data = ('/content/Part1_Crime_data.csv')"
      ],
      "metadata": {
        "id": "c1UlN6QmDLh-"
      },
      "execution_count": 49,
      "outputs": []
    },
    {
      "cell_type": "code",
      "source": [
        "from pyspark.sql import SparkSession\n",
        "spark = SparkSession.builder.master(\"local[1]\") \\\n",
        "                    .appName('crime_data.com') \\\n",
        "                    .getOrCreate()"
      ],
      "metadata": {
        "id": "oW2qUgrMEE4y"
      },
      "execution_count": 50,
      "outputs": []
    },
    {
      "cell_type": "code",
      "source": [
        "crimedata_df = spark.read.csv(Part1_crime_data, header=True, schema=crimedata_schema)"
      ],
      "metadata": {
        "id": "nm4yovMzAwFU"
      },
      "execution_count": 51,
      "outputs": []
    },
    {
      "cell_type": "code",
      "source": [
        "crimedata_df.cache"
      ],
      "metadata": {
        "colab": {
          "base_uri": "https://localhost:8080/"
        },
        "id": "X6z5d37qEi6_",
        "outputId": "a70ad6cf-3365-4857-95df-1887625c05e6"
      },
      "execution_count": 52,
      "outputs": [
        {
          "output_type": "execute_result",
          "data": {
            "text/plain": [
              "<bound method DataFrame.cache of DataFrame[X: double, Y: double, RowID: int, CrimeDateTime: string, CrimeCode: string, Location: string, Description: string, InsideOutside: string, Weapon: string, Post: string, District: string, Neighborhood: string, Latitude: float, Longitude: float, GeoLocation: string, Premise: string, VRIName: string, TotalIncidents: int]>"
            ]
          },
          "metadata": {},
          "execution_count": 52
        }
      ]
    },
    {
      "cell_type": "code",
      "source": [
        "crimedata_df.count()"
      ],
      "metadata": {
        "colab": {
          "base_uri": "https://localhost:8080/"
        },
        "id": "uUgBQqYIFsSL",
        "outputId": "0c01fc1b-7e70-4da7-a5de-5b114b5d47e5"
      },
      "execution_count": 53,
      "outputs": [
        {
          "output_type": "execute_result",
          "data": {
            "text/plain": [
              "513158"
            ]
          },
          "metadata": {},
          "execution_count": 53
        }
      ]
    },
    {
      "cell_type": "code",
      "source": [
        "crimedata_df.printSchema()"
      ],
      "metadata": {
        "colab": {
          "base_uri": "https://localhost:8080/"
        },
        "id": "kd2IW6CyFHTd",
        "outputId": "e6d40fdf-de0c-459f-cd3c-a06d405b5008"
      },
      "execution_count": 54,
      "outputs": [
        {
          "output_type": "stream",
          "name": "stdout",
          "text": [
            "root\n",
            " |-- X: double (nullable = true)\n",
            " |-- Y: double (nullable = true)\n",
            " |-- RowID: integer (nullable = true)\n",
            " |-- CrimeDateTime: string (nullable = true)\n",
            " |-- CrimeCode: string (nullable = true)\n",
            " |-- Location: string (nullable = true)\n",
            " |-- Description: string (nullable = true)\n",
            " |-- InsideOutside: string (nullable = true)\n",
            " |-- Weapon: string (nullable = true)\n",
            " |-- Post: string (nullable = true)\n",
            " |-- District: string (nullable = true)\n",
            " |-- Neighborhood: string (nullable = true)\n",
            " |-- Latitude: float (nullable = true)\n",
            " |-- Longitude: float (nullable = true)\n",
            " |-- GeoLocation: string (nullable = true)\n",
            " |-- Premise: string (nullable = true)\n",
            " |-- VRIName: string (nullable = true)\n",
            " |-- TotalIncidents: integer (nullable = true)\n",
            "\n"
          ]
        }
      ]
    },
    {
      "cell_type": "code",
      "source": [
        "display(crimedata_df.head(5))"
      ],
      "metadata": {
        "colab": {
          "base_uri": "https://localhost:8080/",
          "height": 124
        },
        "id": "sJ5z4B-FUjMP",
        "outputId": "8555b332-3520-45a9-9292-a030b015564d"
      },
      "execution_count": 73,
      "outputs": [
        {
          "output_type": "display_data",
          "data": {
            "text/plain": [
              "[Row(X=1420074.13302107, Y=594160.602354662, RowID=1, CrimeDateTime='2022/02/26 04:00:00+00', CrimeCode='4E', Location='200 W MONUMENT ST', Description='COMMON ASSAULT', InsideOutside=None, Weapon='NA', Post='124', District='CENTRAL', Neighborhood='MOUNT VERNON', Latitude=39.29750061035156, Longitude=-76.61930084228516, GeoLocation='(39.2975,-76.6193)', Premise=None, VRIName=None, TotalIncidents=1),\n",
              " Row(X=1411374.22509631, Y=589791.383964529, RowID=2, CrimeDateTime='2022/02/26 01:26:30+00', CrimeCode='9S', Location='2100 FREDERICK AVE', Description='SHOOTING', InsideOutside='Outside', Weapon='FIREARM', Post='835', District='SOUTHWEST', Neighborhood='CARROLLTON RIDGE', Latitude=39.28559875488281, Longitude=-76.65010070800781, GeoLocation='(39.2856,-76.6501)', Premise='COMMON BUSINESS', VRIName='Tri-District', TotalIncidents=1),\n",
              " Row(X=1411401.16887136, Y=582761.775193539, RowID=3, CrimeDateTime='2022/02/26 10:22:00+00', CrimeCode='4E', Location='2000 GRINNALDS AVE', Description='COMMON ASSAULT', InsideOutside=None, Weapon='NA', Post='831', District='SOUTHWEST', Neighborhood='MORRELL PARK', Latitude=39.266300201416016, Longitude=-76.65010070800781, GeoLocation='(39.2663,-76.6501)', Premise=None, VRIName=None, TotalIncidents=1),\n",
              " Row(X=1422663.14365552, Y=597595.359444412, RowID=4, CrimeDateTime='2022/02/26 01:11:00+00', CrimeCode='7A', Location='400 E OLIVER ST', Description='AUTO THEFT', InsideOutside=None, Weapon='NA', Post='313', District='EASTERN', Neighborhood='GREENMOUNT WEST', Latitude=39.30690002441406, Longitude=-76.61009979248047, GeoLocation='(39.3069,-76.6101)', Premise=None, VRIName=None, TotalIncidents=1),\n",
              " Row(X=1440496.49709374, Y=607767.144994879, RowID=5, CrimeDateTime='2022/02/26 12:30:00+00', CrimeCode='4B', Location='5300 PLAINFIELD AVE', Description='AGG. ASSAULT', InsideOutside=None, Weapon='KNIFE', Post='444', District='NORTHEAST', Neighborhood='FRANKFORD', Latitude=39.334598541259766, Longitude=-76.5468978881836, GeoLocation='(39.3346,-76.5469)', Premise=None, VRIName=None, TotalIncidents=1)]"
            ]
          },
          "metadata": {}
        }
      ]
    },
    {
      "cell_type": "markdown",
      "source": [
        "1. What are distinct crime codes?"
      ],
      "metadata": {
        "id": "t4oO4NnaMuRA"
      }
    },
    {
      "cell_type": "code",
      "source": [
        "crimedata_df.select(\"CrimeCode\").where(col(\"CrimeCode\").isNotNull()).distinct().show(crimedata_df.count(),False)"
      ],
      "metadata": {
        "colab": {
          "base_uri": "https://localhost:8080/"
        },
        "id": "dZ5_ZdP6IeYo",
        "outputId": "62bb9cd3-7598-43d9-ffd9-a6b66f13ff77"
      },
      "execution_count": 57,
      "outputs": [
        {
          "output_type": "stream",
          "name": "stdout",
          "text": [
            "+---------+\n",
            "|CrimeCode|\n",
            "+---------+\n",
            "|3P       |\n",
            "|3K       |\n",
            "|3BJ      |\n",
            "|1A       |\n",
            "|3M       |\n",
            "|5F       |\n",
            "|4B       |\n",
            "|3B       |\n",
            "|7A       |\n",
            "|3NF      |\n",
            "|3EF      |\n",
            "|3N       |\n",
            "|5D       |\n",
            "|6K       |\n",
            "|3LO      |\n",
            "|3AF      |\n",
            "|7B       |\n",
            "|3GO      |\n",
            "|3AJF     |\n",
            "|8GV      |\n",
            "|8AO      |\n",
            "|7C       |\n",
            "|3AK      |\n",
            "|3GK      |\n",
            "|6L       |\n",
            "|3EO      |\n",
            "|3JO      |\n",
            "|3F       |\n",
            "|1K       |\n",
            "|8H       |\n",
            "|8CV      |\n",
            "|8DO      |\n",
            "|4C       |\n",
            "|5A       |\n",
            "|6C       |\n",
            "|3NK      |\n",
            "|3D       |\n",
            "|6H       |\n",
            "|3LK      |\n",
            "|3AJK     |\n",
            "|3CO      |\n",
            "|3L       |\n",
            "|4E       |\n",
            "|8BV      |\n",
            "|6D       |\n",
            "|2A       |\n",
            "|3C       |\n",
            "|8I       |\n",
            "|3NO      |\n",
            "|3JF      |\n",
            "|3E       |\n",
            "|3LF      |\n",
            "|1O       |\n",
            "|8J       |\n",
            "|3CK      |\n",
            "|8BO      |\n",
            "|2B       |\n",
            "|3JK      |\n",
            "|5B       |\n",
            "|4A       |\n",
            "|8GO      |\n",
            "|8EV      |\n",
            "|3CF      |\n",
            "|8EO      |\n",
            "|6G       |\n",
            "|6A       |\n",
            "|9S       |\n",
            "|3EK      |\n",
            "|8FV      |\n",
            "|3GF      |\n",
            "|8CO      |\n",
            "|3H       |\n",
            "|4D       |\n",
            "|8FO      |\n",
            "|6J       |\n",
            "|6F       |\n",
            "|6E       |\n",
            "|3J       |\n",
            "|5C       |\n",
            "|5G       |\n",
            "|8AV      |\n",
            "|5E       |\n",
            "|3AJO     |\n",
            "|3AO      |\n",
            "|6B       |\n",
            "+---------+\n",
            "\n"
          ]
        }
      ]
    },
    {
      "cell_type": "markdown",
      "source": [
        "2. Count the number of crimes by the crime codes and order by the resulting counts in descending order"
      ],
      "metadata": {
        "id": "gocquuc3Mjpn"
      }
    },
    {
      "cell_type": "code",
      "source": [
        "(crimedata_df\n",
        " .select(\"CrimeCode\")\n",
        " .groupBy(\"CrimeCode\")\n",
        " .count()\n",
        " .orderBy(\"count\", ascending=False)\n",
        " .show(n=crimedata_df.count()))"
      ],
      "metadata": {
        "colab": {
          "base_uri": "https://localhost:8080/"
        },
        "id": "pXfJhLVINlwP",
        "outputId": "9cfa1d93-9059-4a48-b07b-9b5b024cfbdf"
      },
      "execution_count": 58,
      "outputs": [
        {
          "output_type": "stream",
          "name": "stdout",
          "text": [
            "+---------+-----+\n",
            "|CrimeCode|count|\n",
            "+---------+-----+\n",
            "|       4E|91650|\n",
            "|       6D|68427|\n",
            "|       5A|43928|\n",
            "|       7A|40274|\n",
            "|       6J|27636|\n",
            "|       6G|26858|\n",
            "|       6E|24300|\n",
            "|       6C|23227|\n",
            "|       4C|22438|\n",
            "|       5D|14971|\n",
            "|      3AF|14739|\n",
            "|       4B|14460|\n",
            "|       4A|13226|\n",
            "|       3B|10737|\n",
            "|       4D| 7232|\n",
            "|       5B| 6475|\n",
            "|       9S| 5443|\n",
            "|       6F| 5081|\n",
            "|       5C| 4917|\n",
            "|       6B| 4106|\n",
            "|      3CF| 3771|\n",
            "|       2A| 3168|\n",
            "|     3AJF| 3018|\n",
            "|      3AK| 2982|\n",
            "|       3K| 2833|\n",
            "|       7C| 2725|\n",
            "|       1A| 2624|\n",
            "|      3AO| 2473|\n",
            "|       5F| 2182|\n",
            "|      3JF| 1815|\n",
            "|       3D| 1432|\n",
            "|       5E| 1419|\n",
            "|       6L| 1205|\n",
            "|       8H| 1051|\n",
            "|       3P|  873|\n",
            "|      3GF|  789|\n",
            "|       6A|  781|\n",
            "|      3BJ|  754|\n",
            "|      3CK|  591|\n",
            "|      3CO|  516|\n",
            "|      3NF|  441|\n",
            "|      3JK|  423|\n",
            "|      8AO|  413|\n",
            "|      3JO|  413|\n",
            "|       2B|  355|\n",
            "|       7B|  287|\n",
            "|       8J|  279|\n",
            "|       3H|  261|\n",
            "|       1K|  230|\n",
            "|     3AJO|  224|\n",
            "|       6H|  222|\n",
            "|       3J|  210|\n",
            "|       1O|  191|\n",
            "|      3EF|  176|\n",
            "|       3N|  176|\n",
            "|     3AJK|  172|\n",
            "|      8FO|  154|\n",
            "|      3GO|  131|\n",
            "|       3M|  121|\n",
            "|      8AV|  121|\n",
            "|       3F|  120|\n",
            "|      3NK|  120|\n",
            "|      3GK|  116|\n",
            "|      8BO|  104|\n",
            "|      3LF|   97|\n",
            "|      3NO|   83|\n",
            "|      8EO|   77|\n",
            "|       8I|   50|\n",
            "|      3EO|   45|\n",
            "|      3EK|   41|\n",
            "|      3LO|   35|\n",
            "|      8BV|   26|\n",
            "|      8GO|   24|\n",
            "|       5G|   21|\n",
            "|      8CO|   13|\n",
            "|      8EV|   10|\n",
            "|      8FV|    9|\n",
            "|      8GV|    7|\n",
            "|      8CV|    7|\n",
            "|       6K|    7|\n",
            "|       3E|    6|\n",
            "|      3LK|    5|\n",
            "|       3C|    4|\n",
            "|      8DO|    3|\n",
            "|       3L|    1|\n",
            "+---------+-----+\n",
            "\n"
          ]
        }
      ]
    },
    {
      "cell_type": "markdown",
      "source": [
        "3. Which neighborhood had most crimes?"
      ],
      "metadata": {
        "id": "kGrOLKErOpPY"
      }
    },
    {
      "cell_type": "code",
      "source": [
        "(crimedata_df\n",
        " .select(\"Neighborhood\")\n",
        " .groupBy(\"Neighborhood\")\n",
        " .count()\n",
        " .orderBy(\"count\", ascending= False)\n",
        " .show(n=1))"
      ],
      "metadata": {
        "colab": {
          "base_uri": "https://localhost:8080/"
        },
        "id": "b5xdUNY1OqyN",
        "outputId": "a3dd5976-71b2-46ff-8ed3-8f1d7d217986"
      },
      "execution_count": 59,
      "outputs": [
        {
          "output_type": "stream",
          "name": "stdout",
          "text": [
            "+------------+-----+\n",
            "|Neighborhood|count|\n",
            "+------------+-----+\n",
            "|    DOWNTOWN|17799|\n",
            "+------------+-----+\n",
            "only showing top 1 row\n",
            "\n"
          ]
        }
      ]
    },
    {
      "cell_type": "markdown",
      "source": [
        "4. Which month of the year had most crimes?"
      ],
      "metadata": {
        "id": "7q6WUOg0PayZ"
      }
    },
    {
      "cell_type": "code",
      "source": [
        "crimedatanew_df = (crimedata_df\n",
        "              .withColumn(\"CrimeMonth\", month(to_timestamp(col(\"CrimeDateTime\"), \"yyyy/MM/dd HH:mm:ss+SSS\")))\n",
        "              .withColumn(\"CrimeMonthName\", date_format(to_timestamp(col(\"CrimeDateTime\"), \"yyyy/MM/dd HH:mm:ss+SSS\"),'MMM'))\n",
        "              .withColumn(\"CrimeYear\", year(to_timestamp(col(\"CrimeDateTime\"), \"yyyy/MM/dd HH:mm:ss+SSS\")))\n",
        "              .withColumn(\"CrimeDateTime\", to_timestamp(col(\"CrimeDateTime\"), \"yyyy/MM/dd HH:mm:ss+SSS\")))"
      ],
      "metadata": {
        "id": "0oEjY4qKP1WJ"
      },
      "execution_count": 60,
      "outputs": []
    },
    {
      "cell_type": "code",
      "source": [
        "crimedatanew_df.limit(5)"
      ],
      "metadata": {
        "colab": {
          "base_uri": "https://localhost:8080/"
        },
        "id": "EfpdNaXbQDLY",
        "outputId": "b1471127-863c-47a4-9954-1a1444f5d9e0"
      },
      "execution_count": 76,
      "outputs": [
        {
          "output_type": "execute_result",
          "data": {
            "text/plain": [
              "DataFrame[X: double, Y: double, RowID: int, CrimeDateTime: timestamp, CrimeCode: string, Location: string, Description: string, InsideOutside: string, Weapon: string, Post: string, District: string, Neighborhood: string, Latitude: float, Longitude: float, GeoLocation: string, Premise: string, VRIName: string, TotalIncidents: int, CrimeMonth: int, CrimeMonthName: string, CrimeYear: int]"
            ]
          },
          "metadata": {},
          "execution_count": 76
        }
      ]
    },
    {
      "cell_type": "code",
      "source": [
        "(crimedatanew_df\n",
        " .select(\"CrimeMonthName\")\n",
        " .groupBy(\"CrimeMonthName\")\n",
        " .count()\n",
        " .orderBy(\"count\", ascending=False)\n",
        " .show(n=1))"
      ],
      "metadata": {
        "colab": {
          "base_uri": "https://localhost:8080/"
        },
        "id": "X5KTJzxjPZAw",
        "outputId": "c6ac8733-150d-4139-9dac-38db7ef530ec"
      },
      "execution_count": 62,
      "outputs": [
        {
          "output_type": "stream",
          "name": "stdout",
          "text": [
            "+--------------+-----+\n",
            "|CrimeMonthName|count|\n",
            "+--------------+-----+\n",
            "|           Aug|46327|\n",
            "+--------------+-----+\n",
            "only showing top 1 row\n",
            "\n"
          ]
        }
      ]
    },
    {
      "cell_type": "markdown",
      "source": [
        "5. What weapons were used? "
      ],
      "metadata": {
        "id": "nu3eGClXSaqW"
      }
    },
    {
      "cell_type": "code",
      "source": [
        "crimedata_df.select(\"Weapon\").where((col(\"Weapon\") != 'NA')).distinct().show()"
      ],
      "metadata": {
        "colab": {
          "base_uri": "https://localhost:8080/"
        },
        "id": "XPadSWcJShfd",
        "outputId": "8d1fa47f-886f-45a6-ff2e-f0c804bed2c0"
      },
      "execution_count": 63,
      "outputs": [
        {
          "output_type": "stream",
          "name": "stdout",
          "text": [
            "+-------+\n",
            "| Weapon|\n",
            "+-------+\n",
            "|  HANDS|\n",
            "|  KNIFE|\n",
            "|  OTHER|\n",
            "|   FIRE|\n",
            "|FIREARM|\n",
            "+-------+\n",
            "\n"
          ]
        }
      ]
    },
    {
      "cell_type": "markdown",
      "source": [
        "6. Which weapon was used the most?"
      ],
      "metadata": {
        "id": "aHuwErs9Sy16"
      }
    },
    {
      "cell_type": "code",
      "source": [
        "(crimedata_df\n",
        " .select(\"Weapon\")\n",
        " .where((col(\"Weapon\") != 'NA'))\n",
        " .groupBy(\"Weapon\")\n",
        " .count()\n",
        " .orderBy(\"count\", ascending=False)\n",
        " .show(n=1))"
      ],
      "metadata": {
        "colab": {
          "base_uri": "https://localhost:8080/"
        },
        "id": "-lTo1hS8S2Mj",
        "outputId": "bc807019-a8dc-4788-c302-98e45dd030a9"
      },
      "execution_count": 64,
      "outputs": [
        {
          "output_type": "stream",
          "name": "stdout",
          "text": [
            "+-------+-----+\n",
            "| Weapon|count|\n",
            "+-------+-----+\n",
            "|FIREARM|46139|\n",
            "+-------+-----+\n",
            "only showing top 1 row\n",
            "\n"
          ]
        }
      ]
    }
  ]
}