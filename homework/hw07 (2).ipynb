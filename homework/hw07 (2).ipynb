{
  "nbformat": 4,
  "nbformat_minor": 0,
  "metadata": {
    "colab": {
      "name": "hw07.ipynb",
      "provenance": [],
      "collapsed_sections": []
    },
    "kernelspec": {
      "name": "python3",
      "display_name": "Python 3"
    },
    "language_info": {
      "name": "python"
    }
  },
  "cells": [
    {
      "cell_type": "code",
      "execution_count": 131,
      "metadata": {
        "colab": {
          "base_uri": "https://localhost:8080/"
        },
        "id": "XpFY2d8A74Hz",
        "outputId": "a6dbde88-589c-4fb5-80b7-05e1f09abfbb"
      },
      "outputs": [
        {
          "output_type": "stream",
          "name": "stdout",
          "text": [
            "Requirement already satisfied: pyspark in /usr/local/lib/python3.7/dist-packages (3.2.1)\n",
            "Requirement already satisfied: py4j==0.10.9.3 in /usr/local/lib/python3.7/dist-packages (from pyspark) (0.10.9.3)\n"
          ]
        }
      ],
      "source": [
        "!pip install pyspark"
      ]
    },
    {
      "cell_type": "code",
      "source": [
        "from pyspark.sql import SparkSession\n",
        "spark = SparkSession.builder.getOrCreate()"
      ],
      "metadata": {
        "id": "EQSqoGf98lHK"
      },
      "execution_count": 132,
      "outputs": []
    },
    {
      "cell_type": "code",
      "source": [
        "from pyspark.sql.types import *\n",
        "file_data = \"/content/weatherAUS.csv\"\n",
        "file_Schema = StructType([\n",
        "      StructField(\"Date\",StringType(),True),\n",
        "      StructField(\"Location\",StringType(),True),\n",
        "      StructField(\"MinTemp\",FloatType(),True),\n",
        "      StructField(\"MaxTemp\",FloatType(),True),\n",
        "      StructField(\"Rainfall\",FloatType(),True),\n",
        "      StructField(\"Evaporation\",StringType(),True),\n",
        "      StructField(\"Sunshine\",StringType(),True),\n",
        "      StructField(\"WindGustDir\",StringType(),True),\n",
        "      StructField(\"WindGustSpeed\",FloatType(),True),\n",
        "      StructField(\"WindDir9am\",StringType(),True),\n",
        "      StructField(\"WindDir3pm\",StringType(),True),\n",
        "      StructField(\"WindSpeed9am\",FloatType(),True),\n",
        "      StructField(\"WindSpeed3pm\",FloatType(),True),\n",
        "      StructField(\"Humidity9am\",FloatType(),True),\n",
        "      StructField(\"Humidity3pm\",FloatType(),True),\n",
        "      StructField(\"Pressure9am\",FloatType(),True),\n",
        "      StructField(\"Pressure3pm\",FloatType(),True),\n",
        "      StructField(\"Cloud9am\",FloatType(),True),\n",
        "      StructField(\"Cloud3pm\",FloatType(),True),\n",
        "      StructField(\"Temp9am\",FloatType(),True),\n",
        "      StructField(\"Temp3pm\",FloatType(),True),\n",
        "      StructField(\"RainToday\",StringType(),True),\n",
        "      StructField(\"RainTomorrow\",StringType(),True)\n",
        "])"
      ],
      "metadata": {
        "id": "i5hTzEFu8i9G"
      },
      "execution_count": 133,
      "outputs": []
    },
    {
      "cell_type": "code",
      "source": [
        "df = spark.read.csv(file_data, header=\"true\", schema=file_Schema,nullValue= 'NA')\n",
        "df = df.drop(\"Date\", \"Evaporation\",\"Sunshine\",\"Cloud9am\", \"Cloud3pm\", 'WindGustDir', 'WindGustSpeed')"
      ],
      "metadata": {
        "id": "dgyv5rOw9LOY"
      },
      "execution_count": 135,
      "outputs": []
    },
    {
      "cell_type": "code",
      "source": [
        "df = df.dropna()"
      ],
      "metadata": {
        "id": "v2u_YQgl_Cde"
      },
      "execution_count": 136,
      "outputs": []
    },
    {
      "cell_type": "code",
      "source": [
        "(traindata, testdata) = df.randomSplit([0.8, 0.2],12345)"
      ],
      "metadata": {
        "id": "E0FB7aiN_J0-"
      },
      "execution_count": 137,
      "outputs": []
    },
    {
      "cell_type": "code",
      "source": [
        "categoricalColumns = [\"Location\", \"WindDir9am\", \"WindDir3pm\", \"RainToday\"]"
      ],
      "metadata": {
        "id": "G3RNePkp1FRB"
      },
      "execution_count": 138,
      "outputs": []
    },
    {
      "cell_type": "code",
      "source": [
        "stages = []"
      ],
      "metadata": {
        "id": "GzKD9TntV3wZ"
      },
      "execution_count": 139,
      "outputs": []
    },
    {
      "cell_type": "code",
      "source": [
        "from pyspark.ml.feature import StringIndexer, OneHotEncoder, VectorAssembler\n",
        "from pyspark.ml.tuning import ParamGridBuilder, CrossValidator\n",
        "from pyspark.ml.evaluation import BinaryClassificationEvaluator\n",
        "from pyspark.ml.classification import DecisionTreeClassifier\n",
        "from pyspark.ml import Pipeline\n",
        "for categoricalCol in categoricalColumns:\n",
        "    stringIndexer = StringIndexer(inputCol=categoricalCol, outputCol=categoricalCol + \"Index\")\n",
        "    encoder = OneHotEncoder(inputCols=[stringIndexer.getOutputCol()], outputCols=[categoricalCol + \"classVec\"])\n",
        "    stages += [stringIndexer, encoder]\n",
        "    "
      ],
      "metadata": {
        "id": "vMQyAcOWC4D2"
      },
      "execution_count": 140,
      "outputs": []
    },
    {
      "cell_type": "code",
      "source": [
        "stages"
      ],
      "metadata": {
        "colab": {
          "base_uri": "https://localhost:8080/"
        },
        "id": "pDn8gXK81a6a",
        "outputId": "4102b1f0-4cc9-441b-ad57-d9352d9ff1b0"
      },
      "execution_count": 141,
      "outputs": [
        {
          "output_type": "execute_result",
          "data": {
            "text/plain": [
              "[StringIndexer_98908de32bd5,\n",
              " OneHotEncoder_16e80a30d418,\n",
              " StringIndexer_7c9f00d59cfb,\n",
              " OneHotEncoder_7afacbe62bfa,\n",
              " StringIndexer_4fc70721b0f3,\n",
              " OneHotEncoder_4c9c051953c9,\n",
              " StringIndexer_2d5bca9f1676,\n",
              " OneHotEncoder_6dd14920bf6b]"
            ]
          },
          "metadata": {},
          "execution_count": 141
        }
      ]
    },
    {
      "cell_type": "code",
      "source": [
        "label_stringIdx = StringIndexer(inputCol=\"RainTomorrow\", outputCol=\"label\")\n",
        "\n",
        "stages += [label_stringIdx]"
      ],
      "metadata": {
        "id": "xsENytnZ1fZ8"
      },
      "execution_count": 142,
      "outputs": []
    },
    {
      "cell_type": "code",
      "source": [
        "numericCols = [\"MinTemp\", \"MaxTemp\", \"WindSpeed9am\", \"WindSpeed3pm\", \"Humidity9am\", \"Humidity3pm\", \"Temp9am\", \"Temp3pm\", \"Pressure9am\", \"Pressure3pm\"]"
      ],
      "metadata": {
        "id": "yjVUaLPD1kwF"
      },
      "execution_count": 143,
      "outputs": []
    },
    {
      "cell_type": "code",
      "source": [
        "assemblerInputs = [c + \"classVec\" for c in categoricalColumns] + numericCols\n",
        "assembler = VectorAssembler(inputCols=assemblerInputs, outputCol=\"features\")\n",
        "stages += [assembler]\n",
        "dtree = DecisionTreeClassifier(labelCol=\"label\", featuresCol=assembler.getOutputCol())"
      ],
      "metadata": {
        "id": "NH2mcc031pwc"
      },
      "execution_count": 144,
      "outputs": []
    },
    {
      "cell_type": "code",
      "source": [
        "label_stringIdx = StringIndexer(inputCol=\"RainTomorrow\", outputCol=\"label\")\n",
        "stages += [label_stringIdx]"
      ],
      "metadata": {
        "id": "BEvCDcDBEp1Q"
      },
      "execution_count": 122,
      "outputs": []
    },
    {
      "cell_type": "code",
      "source": [
        "assemblerInputs = [c + \"classVec\" for c in categoricalColumns] + numeric_Cols\n",
        "assembler = VectorAssembler(inputCols=assemblerInputs, outputCol=\"features\")\n",
        "stages += [assembler]\n",
        "dt = DecisionTreeClassifier(labelCol=\"RainTomorrowIndex\", featuresCol=\"features\")"
      ],
      "metadata": {
        "id": "Ny_CRk-pE0uI"
      },
      "execution_count": 123,
      "outputs": []
    },
    {
      "cell_type": "code",
      "source": [
        "paramGrid = (ParamGridBuilder()\n",
        "    .addGrid(dtree.impurity, ['gini', 'entropy'])\n",
        "    .addGrid(dtree.maxBins, [5, 10, 15])\n",
        "    .addGrid(dtree.minInfoGain, [0.0, 0.2, 0.4])\n",
        "    .addGrid(dtree.maxDepth, [3, 5, 7])\n",
        "    .build())"
      ],
      "metadata": {
        "id": "PBBDtaBJFAA2"
      },
      "execution_count": 145,
      "outputs": []
    },
    {
      "cell_type": "code",
      "source": [
        "evaluator = BinaryClassificationEvaluator()"
      ],
      "metadata": {
        "id": "hXzqK1rFFD2y"
      },
      "execution_count": 146,
      "outputs": []
    },
    {
      "cell_type": "code",
      "source": [
        "cv = CrossValidator(estimator=dtree, estimatorParamMaps=paramGrid, evaluator=evaluator, numFolds=4)\n",
        "stages += [cv]"
      ],
      "metadata": {
        "id": "Kuu-MBX5Faa_"
      },
      "execution_count": 147,
      "outputs": []
    },
    {
      "cell_type": "code",
      "source": [
        "from pyspark.ml import Pipeline"
      ],
      "metadata": {
        "id": "x8FGU2EkI6Gu"
      },
      "execution_count": 148,
      "outputs": []
    },
    {
      "cell_type": "code",
      "source": [
        "pipeline = Pipeline().setStages(stages)\n"
      ],
      "metadata": {
        "id": "hfbHLl7XPCQ9"
      },
      "execution_count": 149,
      "outputs": []
    },
    {
      "cell_type": "code",
      "source": [
        "pipeline_model = pipeline.fit(traindata)\n",
        "prediction = pipeline_model.transform(testdata)"
      ],
      "metadata": {
        "id": "25XpEzF2TI-i"
      },
      "execution_count": 150,
      "outputs": []
    },
    {
      "cell_type": "code",
      "source": [
        "best_model = pipeline_model.stages[-1].bestModel"
      ],
      "metadata": {
        "id": "L95_jvi0hhlG"
      },
      "execution_count": 156,
      "outputs": []
    },
    {
      "cell_type": "code",
      "source": [
        "best_modelobj = best_model._java_obj.parent()\n",
        "\n",
        "best_modeldepth = best_modelobj.getMaxDepth()\n",
        "best_modelbins = best_modelobj.getMaxBins()\n",
        "best_modelimpurity = best_modelobj.getImpurity()\n",
        "best_modelgain = best_modelobj.getMinInfoGain()\n"
      ],
      "metadata": {
        "id": "G79pCjVQhtqn"
      },
      "execution_count": 157,
      "outputs": []
    },
    {
      "cell_type": "code",
      "source": [
        "print(\"Best model grid params are \")\n",
        "print(best_modeldepth)\n",
        "print(best_modelbins)\n",
        "print(best_modelimpurity)\n",
        "print(best_modelgain)"
      ],
      "metadata": {
        "colab": {
          "base_uri": "https://localhost:8080/"
        },
        "id": "4fGHcS1V5YY6",
        "outputId": "d5519d99-0abe-4d1c-d7a9-3c25c2c224f0"
      },
      "execution_count": 155,
      "outputs": [
        {
          "output_type": "stream",
          "name": "stdout",
          "text": [
            "Best model grid params are \n",
            "7\n",
            "15\n",
            "entropy\n",
            "0.0\n"
          ]
        }
      ]
    },
    {
      "cell_type": "code",
      "source": [
        "evaluator.evaluate(prediction)"
      ],
      "metadata": {
        "colab": {
          "base_uri": "https://localhost:8080/"
        },
        "id": "xhDEuGS0h0XO",
        "outputId": "efcea09d-cf49-40eb-e208-efb70b99d84f"
      },
      "execution_count": 158,
      "outputs": [
        {
          "output_type": "execute_result",
          "data": {
            "text/plain": [
              "0.38596277301136334"
            ]
          },
          "metadata": {},
          "execution_count": 158
        }
      ]
    },
    {
      "cell_type": "code",
      "source": [
        "evaluator = BinaryClassificationEvaluator()\n",
        "print(\"Test Area Under ROC: \" + str(evaluator.evaluate(prediction, {evaluator.metricName: \"areaUnderROC\"})))"
      ],
      "metadata": {
        "colab": {
          "base_uri": "https://localhost:8080/"
        },
        "id": "KP2PM_qw-Vaa",
        "outputId": "20ff1c41-6a05-465b-d387-21605e0df06d"
      },
      "execution_count": 164,
      "outputs": [
        {
          "output_type": "stream",
          "name": "stdout",
          "text": [
            "Test Area Under ROC: 0.38596277301136334\n"
          ]
        }
      ]
    },
    {
      "cell_type": "code",
      "source": [
        "print(\"Test Area Under PR: \" + str(evaluator.evaluate(prediction, {evaluator.metricName: \"areaUnderPR\"})))"
      ],
      "metadata": {
        "colab": {
          "base_uri": "https://localhost:8080/"
        },
        "id": "RmgctEHo-Z7c",
        "outputId": "300e0a89-4e7b-4502-a00d-2f50a738d378"
      },
      "execution_count": 165,
      "outputs": [
        {
          "output_type": "stream",
          "name": "stdout",
          "text": [
            "Test Area Under PR: 0.3416236420408684\n"
          ]
        }
      ]
    }
  ]
}